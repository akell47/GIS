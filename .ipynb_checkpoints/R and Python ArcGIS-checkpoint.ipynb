{
 "cells": [
  {
   "cell_type": "markdown",
   "metadata": {},
   "source": [
    "### Workshop #1 Data Science Made Easy with Python and R"
   ]
  },
  {
   "cell_type": "markdown",
   "metadata": {},
   "source": [
    "ArcPro - mini conda included. <br>\n",
    "www.ednuggets.com/2015/05/r-vs-python-data-science.html <br>\n",
    "- R has a broader set of modules specific to a variety of methodologies \n",
    "- Python is a more fully functional programming language\n",
    "ArcGIS\n",
    "- PySAL - ArcGIS Toolbox https://github.com/esri/pysal-arcgis-toolbox\n",
    "- R Sample Toolbox https://github.com/R-ArcGIS/r-sample-tools\n",
    "- Microsoft Data Science VM https://azuremarketplace.microsoft.com/en-us/marketplace/apps/microsoft-ads.standard-data-science-vm"
   ]
  },
  {
   "cell_type": "code",
   "execution_count": 3,
   "metadata": {},
   "outputs": [],
   "source": [
    "# ```\n",
    "# ## loading dataset\n",
    "# ssdo  = SSDO.DataObject(inputFC)\n",
    "# ## Create Data Frame\n",
    "# ```\n",
    "# ssdo.obtainData('ID', ['column1', 'column2'])\n",
    "# df = \n",
    "# outDict = {}\n",
    "# outField = SSDO.CandidateField('STDNORM', 'DOUBLE', outArray, alias = 'alias name')\n",
    "# ssdo.output2NewFC(outputFC, outDict, appendFields = ['column1', 'column2'])\n",
    "# ```"
   ]
  },
  {
   "cell_type": "code",
   "execution_count": 4,
   "metadata": {},
   "outputs": [
    {
     "ename": "ImportError",
     "evalue": "No module named arcpy",
     "output_type": "error",
     "traceback": [
      "\u001b[1;31m\u001b[0m",
      "\u001b[1;31mImportError\u001b[0mTraceback (most recent call last)",
      "\u001b[1;32m<ipython-input-4-01033b0daa8c>\u001b[0m in \u001b[0;36m<module>\u001b[1;34m()\u001b[0m\n\u001b[1;32m----> 1\u001b[1;33m \u001b[1;32mimport\u001b[0m \u001b[0marcpy\u001b[0m \u001b[1;32mas\u001b[0m \u001b[0mARCPY\u001b[0m\u001b[1;33m\u001b[0m\u001b[0m\n\u001b[0m",
      "\u001b[1;31mImportError\u001b[0m: No module named arcpy"
     ]
    }
   ],
   "source": [
    "import arcpy as ARCPY\n"
   ]
  },
  {
   "cell_type": "markdown",
   "metadata": {},
   "source": [
    "https://github.com/Esri/gis-stat-analysis-py-tutor"
   ]
  }
 ],
 "metadata": {
  "kernelspec": {
   "display_name": "Python [conda root]",
   "language": "python",
   "name": "conda-root-py"
  },
  "language_info": {
   "codemirror_mode": {
    "name": "ipython",
    "version": 2
   },
   "file_extension": ".py",
   "mimetype": "text/x-python",
   "name": "python",
   "nbconvert_exporter": "python",
   "pygments_lexer": "ipython2",
   "version": "2.7.13"
  }
 },
 "nbformat": 4,
 "nbformat_minor": 2
}
